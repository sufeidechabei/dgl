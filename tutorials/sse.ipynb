{
 "cells": [
  {
   "cell_type": "code",
   "execution_count": null,
   "metadata": {},
   "outputs": [],
   "source": [
    "import time\n",
    "\n",
    "%env DGLBACKEND=mxnet\n",
    "import dgl\n",
    "import dgl.function as fn\n",
    "import matplotlib.pylab as plt\n",
    "%matplotlib notebook\n",
    "import mxnet as mx\n",
    "from mxnet import gluon\n",
    "import networkx as nx\n",
    "import numpy as np\n",
    "import numpy.random as npr"
   ]
  },
  {
   "cell_type": "code",
   "execution_count": null,
   "metadata": {
    "collapsed": true
   },
   "outputs": [],
   "source": [
    "alpha = 0.9\n",
    "batch_size = 16\n",
    "\n",
    "N = 2 # the number of chains\n",
    "L = 100 # the length of a chain\n",
    "r_train = 0.1 # the ratio of test nodes"
   ]
  },
  {
   "cell_type": "code",
   "execution_count": null,
   "metadata": {
    "collapsed": true
   },
   "outputs": [],
   "source": [
    "path_graph = nx.path_graph(N * L).to_directed()\n",
    "for i in range(N - 1): # break the path graph into N chains\n",
    "    path_graph.remove_edge((i + 1) * L - 1, (i + 1) * L)\n",
    "    path_graph.remove_edge((i + 1) * L, (i + 1) * L - 1)\n",
    "for n in path_graph.nodes:\n",
    "    path_graph.add_edge(n, n) # add self connections\n",
    "\n",
    "g = dgl.DGLGraph(path_graph, readonly=True)\n",
    "# g.from_networkx(path_graph)"
   ]
  },
  {
   "cell_type": "code",
   "execution_count": null,
   "metadata": {
    "collapsed": true
   },
   "outputs": [],
   "source": [
    "def T(g):\n",
    "    message_func = fn.copy_src('y', 'm')\n",
    "    reduce_func = fn.max('m', 'y')\n",
    "    g.update_all(message_func, reduce_func)"
   ]
  },
  {
   "cell_type": "code",
   "execution_count": null,
   "metadata": {},
   "outputs": [],
   "source": [
    "plt.ion()\n",
    "fig = plt.figure()\n",
    "ax = fig.add_subplot(111)\n",
    "fig.show()\n",
    "fig.canvas.draw()\n",
    "\n",
    "pos = nx.circular_layout(path_graph)\n",
    "nx.draw_networkx_nodes(path_graph, pos, range(L), 1, 'r')\n",
    "nx.draw_networkx_nodes(path_graph, pos, range(L, 2 * L), 1, 'b')"
   ]
  },
  {
   "cell_type": "code",
   "execution_count": null,
   "metadata": {
    "collapsed": true
   },
   "outputs": [],
   "source": [
    "y = mx.nd.zeros([N * L, 1])\n",
    "y[0] = 1\n",
    "g.ndata['y'] = y\n",
    "\n",
    "for i in range(L):\n",
    "    T(g)\n",
    "    nodes = (g.ndata['y'] == 1).asnumpy().nonzero()[0].tolist()\n",
    "    nx.draw_networkx_nodes(path_graph, pos, nodes, 1, 'g')\n",
    "    fig.canvas.draw()"
   ]
  },
  {
   "cell_type": "code",
   "execution_count": null,
   "metadata": {
    "collapsed": true
   },
   "outputs": [],
   "source": [
    "class SteadyStateOperator(gluon.Block):\n",
    "    def __init__(self, n_hidden, activation, **kwargs):\n",
    "        super(SteadyStateOperator, self).__init__(**kwargs)\n",
    "        with self.name_scope():\n",
    "            self.dense1 = gluon.nn.Dense(n_hidden, activation=activation)\n",
    "            self.dense2 = gluon.nn.Dense(n_hidden)\n",
    "        \n",
    "    def forward(self, g):\n",
    "        def message_func(edges):\n",
    "            return {'m' : mx.nd.concat(edges.src['x'], edges.src['h'], dim=1)}\n",
    "        \n",
    "        def reduce_func(nodes):\n",
    "            m = mx.nd.sum(nodes.mailbox['m'], axis=1)\n",
    "#             m = mx.nd.sum(nodes.mailbox['m'], axis=1) / nodes.data['deg']\n",
    "            z = mx.nd.concat(nodes.data['x'], m, dim=1)\n",
    "            return {'h' : self.dense2(self.dense1(z))}\n",
    "        \n",
    "        g.update_all(message_func, reduce_func)\n",
    "\n",
    "class Predictor(gluon.Block):\n",
    "    def __init__(self, n_hidden, n_classes, activation, **kwargs):\n",
    "        super(Predictor, self).__init__(**kwargs)\n",
    "        with self.name_scope():\n",
    "            self.dense1 = gluon.nn.Dense(n_hidden, activation=activation)\n",
    "            self.dense2 = gluon.nn.Dense(n_classes)\n",
    "\n",
    "    def forward(self, g):        \n",
    "        def apply_node_func(nodes):\n",
    "            return {'z' : self.dense2(self.dense1(nodes.data['h']))}\n",
    "        g.apply_nodes(apply_node_func)"
   ]
  },
  {
   "cell_type": "code",
   "execution_count": null,
   "metadata": {
    "collapsed": true
   },
   "outputs": [],
   "source": [
    "def update_embeddings(g, steady_state_operator):\n",
    "    prev = g.ndata['h']\n",
    "    steady_state_operator(g)\n",
    "    g.ndata['h'] = (1 - alpha) * prev + alpha * g.ndata['h']\n",
    "\n",
    "def update_parameters(g, steady_state_operator, predictor, trainer):\n",
    "    n = g.number_of_nodes()\n",
    "    with mx.autograd.record():\n",
    "        steady_state_operator(g)\n",
    "        predictor(g)\n",
    "        z = g.ndata['z']\n",
    "        y = g.ndata['y'].reshape(n)\n",
    "        loss = mx.nd.softmax_cross_entropy(z, y)\n",
    "    loss.backward()\n",
    "    trainer.step(n)\n",
    "    return loss.asnumpy()[0]"
   ]
  },
  {
   "cell_type": "code",
   "execution_count": null,
   "metadata": {
    "collapsed": true
   },
   "outputs": [],
   "source": [
    "def train(g, g_train, steady_state_operator, predictor, trainer):\n",
    "    for i in range(n_embedding_updates):\n",
    "        update_embeddings(g, steady_state_operator)\n",
    "    g_train.copy_from_parent()\n",
    "    for i in range(n_parameter_updates):\n",
    "        loss = update_parameters(g_train, steady_state_operator, predictor, trainer)\n",
    "    return loss\n",
    "\n",
    "def test(g, steady_state_operator, predictor):\n",
    "    predictor(g)\n",
    "    y_bar = mx.nd.argmax(g.ndata['z'], axis=1)\n",
    "    n = g.number_of_nodes()\n",
    "    y = g.ndata['y'].reshape(n)\n",
    "    accuracy = mx.nd.sum(y_bar == y) / n\n",
    "    return accuracy.asnumpy()[0]"
   ]
  },
  {
   "cell_type": "code",
   "execution_count": null,
   "metadata": {
    "collapsed": true
   },
   "outputs": [],
   "source": [
    "n = g.number_of_nodes()\n",
    "n_feats = n\n",
    "n_hidden = 16\n",
    "activation = 'relu'\n",
    "lr = 1e-3\n",
    "\n",
    "steady_state_operator = SteadyStateOperator(n_hidden, activation)\n",
    "predictor = Predictor(n_hidden, N, activation)\n",
    "steady_state_operator.initialize()\n",
    "predictor.initialize()\n",
    "params = steady_state_operator.collect_params()\n",
    "params.update(predictor.collect_params())\n",
    "trainer = gluon.Trainer(params, 'adam', {'learning_rate' : lr})"
   ]
  },
  {
   "cell_type": "code",
   "execution_count": null,
   "metadata": {
    "collapsed": true
   },
   "outputs": [],
   "source": [
    "for scheme in g.node_attr_schemes():\n",
    "    g.pop_n_repr(scheme)\n",
    "\n",
    "g.ndata['x'] = mx.nd.eye(n, n)\n",
    "g.ndata['y'] = mx.nd.concat(*[i * mx.nd.ones([L, 1], dtype='float32') for i in range(N)], dim=0)\n",
    "g.ndata['h'] = mx.nd.zeros([n, n_hidden])\n",
    "g.ndata['deg'] = mx.nd.cast(g.in_degrees(range(n)).reshape(n, 1), 'float32')\n",
    "\n",
    "n_train = int(r_train * n)\n",
    "# nodes_train = sum([list(range(i * L, i * L + n_train)) for i in range(N)], [])\n",
    "nodes_train = npr.choice(range(n), n_train, replace=True)\n",
    "g_train = g.subgraph(nodes_train) # subgraph for training\n",
    "g_train.copy_from_parent()\n",
    "\n",
    "train_set = set(nodes_train)\n",
    "nodes_test = [i for i in range(n) if i not in train_set]\n",
    "g_test = g.subgraph(nodes_test) # subgraph for test"
   ]
  },
  {
   "cell_type": "code",
   "execution_count": null,
   "metadata": {},
   "outputs": [],
   "source": [
    "plt.ion()\n",
    "fig = plt.figure()\n",
    "ax = fig.add_subplot(111)\n",
    "fig.show()\n",
    "fig.canvas.draw()\n",
    "\n",
    "pos = nx.circular_layout(path_graph)\n",
    "nx.draw_networkx_nodes(path_graph, pos, range(L), 1, 'r')\n",
    "nx.draw_networkx_nodes(path_graph, pos, range(L, 2 * L), 1, 'b')"
   ]
  },
  {
   "cell_type": "code",
   "execution_count": null,
   "metadata": {},
   "outputs": [],
   "source": [
    "n_epochs = 50\n",
    "n_embedding_updates = 8\n",
    "n_parameter_updates = 5\n",
    "alpha = 0.1\n",
    "\n",
    "for i in range(n_epochs):\n",
    "    loss = train(g, g_train, steady_state_operator, predictor, trainer)\n",
    "    \n",
    "    g_train.copy_from_parent()\n",
    "    accuracy_train = test(g_train, steady_state_operator, predictor)\n",
    "    g_test.copy_from_parent()\n",
    "    accuracy_test = test(g_test, steady_state_operator, predictor)\n",
    "    \n",
    "    print('[epoch %d]training loss: %.3f, training accuracy: %.3f, test accuracy: %.3f' % \\\n",
    "          (i, loss, accuracy_train, accuracy_test))\n",
    "    \n",
    "    g_train.copy_to_parent()\n",
    "    g_test.copy_to_parent()\n",
    "    y_bar = mx.nd.argmax(g.ndata['z'], axis=1)\n",
    "    y = g.ndata['y'].reshape(n)\n",
    "    \n",
    "    right = (y_bar == y).asnumpy().nonzero()[0].tolist()\n",
    "    wrong = (y_bar != y).asnumpy().nonzero()[0].tolist()\n",
    "    nx.draw_networkx_nodes(path_graph, pos, right, 1, 'g')\n",
    "    nx.draw_networkx_nodes(path_graph, pos, wrong, 1, 'y')"
   ]
  },
  {
   "cell_type": "code",
   "execution_count": null,
   "metadata": {
    "collapsed": true
   },
   "outputs": [],
   "source": [
    "for sub_g in dgl.contrib.sampling.NeighborSampler(g, batch_size, 3): # because\n",
    "    pass\n",
    "\n",
    "def train_on_subgraphs(g, steady_state_operator, predictor):\n",
    "    for i in range(n_embedding_updates):\n",
    "        update_embeddings(g, steady_state_operator)\n",
    "    for i in range(n_parameter_updates):\n",
    "        loss = update_parameters(g, steady_state_operator, predictor)\n",
    "    return loss"
   ]
  }
 ],
 "metadata": {
  "kernelspec": {
   "display_name": "Python 3",
   "language": "python",
   "name": "python3"
  },
  "language_info": {
   "codemirror_mode": {
    "name": "ipython",
    "version": 3
   },
   "file_extension": ".py",
   "mimetype": "text/x-python",
   "name": "python",
   "nbconvert_exporter": "python",
   "pygments_lexer": "ipython3",
   "version": "3.6.3"
  }
 },
 "nbformat": 4,
 "nbformat_minor": 2
}
