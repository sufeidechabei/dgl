{
 "cells": [
  {
   "cell_type": "code",
   "execution_count": null,
   "metadata": {},
   "outputs": [],
   "source": [
    "import time\n",
    "\n",
    "%env DGLBACKEND=mxnet\n",
    "import dgl\n",
    "import dgl.function as fn\n",
    "import matplotlib.pylab as plt\n",
    "%matplotlib notebook\n",
    "import mxnet as mx\n",
    "from mxnet import gluon\n",
    "import networkx as nx\n",
    "import numpy as np"
   ]
  },
  {
   "cell_type": "code",
   "execution_count": null,
   "metadata": {
    "collapsed": true
   },
   "outputs": [],
   "source": [
    "alpha = 0.1\n",
    "batch_size = 16\n",
    "\n",
    "N = 2 # the number of chains\n",
    "L = 100 # the length of a chain\n",
    "r_train = 0.1 # the ratio of test nodes"
   ]
  },
  {
   "cell_type": "code",
   "execution_count": null,
   "metadata": {},
   "outputs": [],
   "source": [
    "path_graph = nx.path_graph(N * L).to_directed()\n",
    "for i in range(N - 1): # break the path graph into N chains\n",
    "    path_graph.remove_edge((i + 1) * L - 1, (i + 1) * L)\n",
    "    path_graph.remove_edge((i + 1) * L, (i + 1) * L - 1)\n",
    "for n in path_graph.nodes:\n",
    "    path_graph.add_edge(n, n) # add self connections\n",
    "\n",
    "g = dgl.DGLGraph(path_graph, readonly=True)\n",
    "# g.from_networkx(path_graph)"
   ]
  },
  {
   "cell_type": "code",
   "execution_count": null,
   "metadata": {
    "collapsed": true
   },
   "outputs": [],
   "source": [
    "def T(g):\n",
    "    message_func = fn.copy_src('y', 'm')\n",
    "    reduce_func = fn.max('m', 'y')\n",
    "    g.update_all(message_func, reduce_func)"
   ]
  },
  {
   "cell_type": "code",
   "execution_count": null,
   "metadata": {
    "scrolled": true
   },
   "outputs": [],
   "source": [
    "plt.ion()\n",
    "fig = plt.figure()\n",
    "ax = fig.add_subplot(111)\n",
    "fig.show()\n",
    "fig.canvas.draw()\n",
    "\n",
    "pos = nx.random_layout(path_graph)\n",
    "nx.draw_networkx_nodes(path_graph, pos, range(N), 100, 'r')\n",
    "nx.draw_networkx_nodes(path_graph, pos, range(N, 2 * N), 100, 'g')"
   ]
  },
  {
   "cell_type": "code",
   "execution_count": null,
   "metadata": {},
   "outputs": [],
   "source": [
    "s = 0\n",
    "y = mx.nd.zeros([N * L, 1])\n",
    "y[s] = 1\n",
    "g.ndata['y'] = y\n",
    "\n",
    "for i in range(L):\n",
    "    T(g)\n",
    "    x = (g.ndata['y'] == 1).asnumpy().nonzero()[0].tolist()\n",
    "    nx.draw_networkx_nodes(path_graph, pos, x, 100, 'b')\n",
    "    fig.canvas.draw()\n",
    "    time.sleep(1e-3)"
   ]
  },
  {
   "cell_type": "code",
   "execution_count": null,
   "metadata": {
    "collapsed": true
   },
   "outputs": [],
   "source": [
    "class SteadyStateOperator(gluon.Block):\n",
    "    def __init__(self, n_hidden, activation, **kwargs):\n",
    "        super(SteadyStateOperator, self).__init__(**kwargs)\n",
    "        with self.name_scope():\n",
    "            self.dense1 = gluon.nn.Dense(n_hidden, activation=activation)\n",
    "            self.dense2 = gluon.nn.Dense(n_hidden)\n",
    "        \n",
    "    def forward(self, g):\n",
    "        def message_func(edges):\n",
    "            return {'m' : mx.nd.concat(edges.src['x'], edges.src['h'], dim=1)}\n",
    "        \n",
    "        def reduce_func(nodes):\n",
    "            m = mx.nd.sum(nodes.mailbox['m'], axis=1) / nodes.data['deg']\n",
    "            z = mx.nd.concat(nodes.data['x'], m, dim=1)\n",
    "            return {'h' : self.dense2(self.dense1(z))}\n",
    "        \n",
    "        g.update_all(message_func, reduce_func)\n",
    "\n",
    "class Predictor(gluon.Block):\n",
    "    def __init__(self, n_hidden, n_classes, activation, **kwargs):\n",
    "        super(Predictor, self).__init__(**kwargs)\n",
    "        with self.name_scope():\n",
    "            self.dense1 = gluon.nn.Dense(n_hidden, activation=activation)\n",
    "            self.dense2 = gluon.nn.Dense(n_classes)\n",
    "\n",
    "    def forward(self, g):        \n",
    "        def apply_node_func(nodes):\n",
    "            return {'z' : self.dense2(self.dense1(nodes.data['h']))}\n",
    "        g.apply_nodes(apply_node_func)"
   ]
  },
  {
   "cell_type": "code",
   "execution_count": null,
   "metadata": {
    "collapsed": true
   },
   "outputs": [],
   "source": [
    "def update_embeddings(g, steady_state_operator):\n",
    "    prev = g.ndata['h']\n",
    "    steady_state_operator(g)\n",
    "    g.ndata['h'] = (1 - alpha) * prev + g.ndata['h']\n",
    "\n",
    "def update_parameters(g, steady_state_operator, predictor, trainer):\n",
    "    n = g.number_of_nodes()\n",
    "    prev = g.ndata['h']\n",
    "    with mx.autograd.record():\n",
    "        steady_state_operator(g)\n",
    "        predictor(g)\n",
    "        z = g.ndata['z']\n",
    "        y = g.ndata['y'].reshape(n)\n",
    "        loss = mx.nd.softmax_cross_entropy(z, y)\n",
    "    loss.backward()\n",
    "    trainer.step(n)\n",
    "    g.ndata['h'] = prev\n",
    "    return loss.asnumpy()[0]"
   ]
  },
  {
   "cell_type": "code",
   "execution_count": null,
   "metadata": {
    "collapsed": true
   },
   "outputs": [],
   "source": [
    "def train(g, steady_state_operator, predictor, trainer):\n",
    "    for i in range(n_embedding_updates):\n",
    "        update_embeddings(g, steady_state_operator)\n",
    "    for i in range(n_parameter_updates):\n",
    "        loss = update_parameters(g, steady_state_operator, predictor, trainer)\n",
    "    return loss\n",
    "\n",
    "def test(g, steady_state_operator, predictor):\n",
    "    for i in range(L):\n",
    "        update_embeddings(g, steady_state_operator)\n",
    "    predictor(g)\n",
    "    y_bar = mx.nd.argmax(g.ndata['z'], axis=1)\n",
    "    n = g.number_of_nodes()\n",
    "    y = g.ndata['y'].reshape(n)\n",
    "    accuracy = mx.nd.sum(y_bar == y) / n\n",
    "    return accuracy.asnumpy()[0]"
   ]
  },
  {
   "cell_type": "code",
   "execution_count": null,
   "metadata": {},
   "outputs": [],
   "source": [
    "n_feats = N\n",
    "n_hidden = 16\n",
    "activation = 'relu'\n",
    "lr = 1e-3\n",
    "\n",
    "steady_state_operator = SteadyStateOperator(n_hidden, activation)\n",
    "predictor = Predictor(n_hidden, N, activation)\n",
    "steady_state_operator.initialize()\n",
    "predictor.initialize()\n",
    "params = steady_state_operator.collect_params()\n",
    "params.update(predictor.collect_params())\n",
    "trainer = gluon.Trainer(params, 'adam', {'learning_rate' : lr})"
   ]
  },
  {
   "cell_type": "code",
   "execution_count": null,
   "metadata": {},
   "outputs": [],
   "source": [
    "for scheme in g.node_attr_schemes():\n",
    "    g.pop_n_repr(scheme)\n",
    "\n",
    "n = g.number_of_nodes()\n",
    "g.ndata['x'] = mx.nd.zeros([g.number_of_nodes(), n_feats])\n",
    "# for i in range(N):\n",
    "#     g.ndata['x'][i * L][i] = 1\n",
    "g.ndata['y'] = mx.nd.concat(*[i * mx.nd.ones([L, 1], dtype='float32') for i in range(N)], dim=0)\n",
    "g.ndata['h'] = mx.nd.random_normal(shape=[n, n_hidden])\n",
    "g.ndata['deg'] = mx.nd.cast(g.in_degrees(range(g.number_of_nodes())).reshape(n, 1), 'float32')\n",
    "\n",
    "n_train = int(r_train * N * L)\n",
    "\n",
    "nodes_train = sum([list(range(i * L, i * L + n_train)) for i in range(N)], [])\n",
    "g_train = g.subgraph(nodes_train) # subgraph for training\n",
    "g_train.copy_from_parent()\n",
    "\n",
    "nodes_test = sum([list(range(i * L + n_train, (i + 1) * L)) for i in range(N)], [])\n",
    "g_test = g.subgraph(nodes_test) # subgraph for test\n",
    "g_test.copy_from_parent()"
   ]
  },
  {
   "cell_type": "code",
   "execution_count": null,
   "metadata": {},
   "outputs": [],
   "source": [
    "n_epochs = 100\n",
    "n_embedding_updates = 10\n",
    "n_parameter_updates = 10\n",
    "alpha = 0.1\n",
    "\n",
    "for i in range(n_epochs):\n",
    "    loss = train(g_train, steady_state_operator, predictor, trainer)\n",
    "    accuracy = test(g_train, steady_state_operator, predictor)\n",
    "    print('[epoch %d]loss: %.3f, accuracy: %.3f' % (i, loss, accuracy))"
   ]
  },
  {
   "cell_type": "code",
   "execution_count": null,
   "metadata": {
    "collapsed": true
   },
   "outputs": [],
   "source": [
    "for sub_g in dgl.contrib.sampling.NeighborSampler(g, batch_size, 3): # because\n",
    "    pass\n",
    "\n",
    "def train_on_subgraphs(g, steady_state_operator, predictor):\n",
    "    for i in range(n_embedding_updates):\n",
    "        update_embeddings(g, steady_state_operator)\n",
    "    for i in range(n_parameter_updates):\n",
    "        loss = update_parameters(g, steady_state_operator, predictor)\n",
    "    return loss"
   ]
  }
 ],
 "metadata": {
  "kernelspec": {
   "display_name": "Python 3",
   "language": "python",
   "name": "python3"
  },
  "language_info": {
   "codemirror_mode": {
    "name": "ipython",
    "version": 3
   },
   "file_extension": ".py",
   "mimetype": "text/x-python",
   "name": "python",
   "nbconvert_exporter": "python",
   "pygments_lexer": "ipython3",
   "version": "3.6.3"
  }
 },
 "nbformat": 4,
 "nbformat_minor": 2
}
